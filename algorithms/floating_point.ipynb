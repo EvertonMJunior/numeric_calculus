{
 "cells": [
  {
   "cell_type": "markdown",
   "metadata": {},
   "source": [
    "# Conversion of beta base to decimal base\n",
    "\n",
    "This converts a number from decimal base to base n\n",
    "## Examples:\n",
    "- (10111) on base 2 to base 10 = 23\n",
    "- (0.111) on base 2 to base 10 = 0.875"
   ]
  },
  {
   "cell_type": "code",
   "execution_count": 75,
   "metadata": {},
   "outputs": [],
   "source": [
    "def convert_from_beta_to_decimal_base(number: float, base: int):\n",
    "    number = str(float(number))\n",
    "    number = number.split('.')\n",
    "    integer_part = number[0]\n",
    "    decimal_part = number[1]\n",
    "\n",
    "    integer_part = int(integer_part, base)\n",
    "    decimal_part = int(decimal_part, base) / (base ** len(decimal_part))\n",
    "\n",
    "    return integer_part + decimal_part\n"
   ]
  },
  {
   "cell_type": "code",
   "execution_count": 76,
   "metadata": {},
   "outputs": [],
   "source": [
    "assert convert_from_beta_to_decimal_base(10111, 2) == 23\n",
    "assert convert_from_beta_to_decimal_base(0.111, 2) == 0.875"
   ]
  },
  {
   "cell_type": "markdown",
   "metadata": {},
   "source": [
    "# Conversion of decimal base to beta base"
   ]
  },
  {
   "cell_type": "code",
   "execution_count": 77,
   "metadata": {},
   "outputs": [],
   "source": [
    "# Converts a number from beta base to decimal base\n",
    "# Examples: (13) on base 10 to base 2 = 1101\n",
    "#           (0.875) on base 10 to base 2 = 0.111\n",
    "def convert_from_decimal_to_base(number: float, base: int, precision: int = 10) -> str:\n",
    "    if base < 2:\n",
    "        raise ValueError(\"Base must be >= 2\")\n",
    "    \n",
    "    # Separate the integer and fractional parts\n",
    "    integer_part = int(number)\n",
    "    fractional_part = abs(number - integer_part)  # Using abs() for negative numbers\n",
    "    \n",
    "    # Convert integer part\n",
    "    if integer_part == 0:\n",
    "        integer_result = \"0\"\n",
    "    else:\n",
    "        integer_result = \"\"\n",
    "        while integer_part > 0:\n",
    "            remainder = integer_part % base\n",
    "            integer_result = str(remainder) + integer_result\n",
    "            integer_part //= base\n",
    "    \n",
    "    # Convert fractional part\n",
    "    fractional_result = \"\"\n",
    "    while fractional_part > 0 and len(fractional_result) < precision:\n",
    "        product = fractional_part * base\n",
    "        digit = int(product)\n",
    "        fractional_result += str(digit)\n",
    "        fractional_part = product - digit\n",
    "    \n",
    "    # Combine results\n",
    "    if fractional_result:\n",
    "        return f\"{integer_result}.{fractional_result}\"\n",
    "    return integer_result"
   ]
  },
  {
   "cell_type": "code",
   "execution_count": 78,
   "metadata": {},
   "outputs": [],
   "source": [
    "assert convert_from_decimal_to_base(23, 2) == '10111'\n",
    "assert convert_from_decimal_to_base(0.875, 2) == '0.111'"
   ]
  }
 ],
 "metadata": {
  "kernelspec": {
   "display_name": "base",
   "language": "python",
   "name": "python3"
  },
  "language_info": {
   "codemirror_mode": {
    "name": "ipython",
    "version": 3
   },
   "file_extension": ".py",
   "mimetype": "text/x-python",
   "name": "python",
   "nbconvert_exporter": "python",
   "pygments_lexer": "ipython3",
   "version": "3.10.9"
  }
 },
 "nbformat": 4,
 "nbformat_minor": 2
}
